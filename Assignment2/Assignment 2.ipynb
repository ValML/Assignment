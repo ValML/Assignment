{
 "cells": [
  {
   "cell_type": "markdown",
   "metadata": {},
   "source": [
    "# Task 1"
   ]
  },
  {
   "cell_type": "markdown",
   "metadata": {},
   "source": [
    "Write a Python Program to implement your own myreduce() function which works exactly like\n",
    "Python's built-in function reduce()"
   ]
  },
  {
   "cell_type": "code",
   "execution_count": 1,
   "metadata": {},
   "outputs": [
    {
     "name": "stdout",
     "output_type": "stream",
     "text": [
      "Output of myreduce: Verybiglengthyword output of inbuilt reduce  Verybiglengthyword\n",
      "Output of myreduce: 10 output of inbuilt reduce  10\n"
     ]
    }
   ],
   "source": [
    "def myreduce(func,lst):\n",
    "    i = 0\n",
    "    return_val = 0    \n",
    "    while i<len(lst)-1:        \n",
    "        return_val = lst[i] if i==0 else return_val        \n",
    "        return_val = func(return_val,lst[i+1])\n",
    "        i+=1\n",
    "        \n",
    "    return return_val          \n",
    "\n",
    "from functools import reduce\n",
    "\n",
    "\n",
    "lst = ['asdfasfd','ad','ASDASDads','Verybiglengthyword']\n",
    "func = lambda x,y:x if len(x)>len(y) else y\n",
    "print(\"Output of myreduce:\",myreduce(func,lst),\"output of inbuilt reduce \",reduce(func,lst))\n",
    "\n",
    "        \n",
    "lst = [1,2,3,4]\n",
    "func = lambda x,y:x+y\n",
    "print(\"Output of myreduce:\",myreduce(func,lst),\"output of inbuilt reduce \",reduce(func,lst))"
   ]
  },
  {
   "cell_type": "markdown",
   "metadata": {},
   "source": [
    "Write a Python program to implement your own myfilter() function which works exactly like\n",
    "Python's built-in function filter()"
   ]
  },
  {
   "cell_type": "code",
   "execution_count": 2,
   "metadata": {},
   "outputs": [
    {
     "name": "stdout",
     "output_type": "stream",
     "text": [
      "Output of myfilter: [8, 9, 21, 11] output of inbuilt filter  [8, 9, 21, 11]\n",
      "Output of myfilter: ['a', 'e', 'i'] output of inbuilt filter  ['a', 'e', 'i']\n"
     ]
    }
   ],
   "source": [
    "def myfilter(func,lst):    \n",
    "    i = 0\n",
    "    return_list = []    \n",
    "    while i<len(lst):                \n",
    "        if(func(lst[i])):\n",
    "            return_list.append(lst[i])\n",
    "        i+=1\n",
    "      \n",
    "    return return_list          \n",
    "\n",
    "\n",
    "lst = [1,2,5,8,9,21,11]\n",
    "func = lambda x:True if x>5 else False\n",
    "print(\"Output of myfilter:\",myfilter(func,lst),\"output of inbuilt filter \",list(filter(func,lst)))\n",
    "\n",
    "lst = ['a','e','r','t','g','h','i','k']\n",
    "vowel = ['a','e','i','o','u']\n",
    "func = lambda x: True if x in vowel else False\n",
    "print(\"Output of myfilter:\",myfilter(func,lst),\"output of inbuilt filter \",list(filter(func,lst)))\n"
   ]
  },
  {
   "cell_type": "markdown",
   "metadata": {},
   "source": [
    "Implement List comprehensions to produce the following lists.\n",
    "Write List comprehensions to produce the following Lists\n",
    "\n",
    "['A','C','A','D','G','I',’L’,‘D’]\n",
    "['x','xx','xxx','xxxx','y','yy','yyy','yyyy','z','zz','zzz','zzzz']\n",
    "['x','y','z','xx','yy','zz','xx','yy','zz','xxxx','yyyy','zzzz']\n",
    "[[2],[3],[4],[3],[4],[5],[4],[5],[6]]\n",
    "[[2,3,4,5],[3,4,5,6],[4,5,6,7],[5,6,7,8]]\n",
    "[(1,1),(2,1),(3,1),(1,2),(2,2),(3,2),(1,3),(2,3),(3,3)]"
   ]
  },
  {
   "cell_type": "code",
   "execution_count": 3,
   "metadata": {},
   "outputs": [
    {
     "name": "stdout",
     "output_type": "stream",
     "text": [
      "['A', 'C', 'A', 'D', 'G', 'I', 'L', 'D']\n",
      "['x', 'xx', 'xxx', 'xxxx', 'y', 'yy', 'yyy', 'yyyy', 'z', 'zz', 'zzz', 'zzzz']\n",
      "['x', 'y', 'z', 'xx', 'yy', 'zz', 'xxx', 'yyy', 'zzz', 'xxxx', 'yyyy', 'zzzz']\n",
      "[[2], [3], [4], [3], [4], [5], [4], [5], [6]]\n",
      "[[2, 3, 4, 5], [3, 4, 5, 6], [4, 5, 6, 7], [5, 6, 7, 8]]\n",
      "[(1, 1), (2, 1), (3, 1), (1, 2), (2, 2), (3, 2), (1, 3), (2, 3), (3, 3)]\n"
     ]
    }
   ],
   "source": [
    "inp1 = 'acadgild'\n",
    "inp2 = 'xyz'\n",
    "\n",
    "print([i.upper() for i in inp1])\n",
    "print([char*i for char in inp2 for i in range(1,5) ])\n",
    "print([char*i for i in range(1,5) for char in inp2])\n",
    "print([[i+j] for i in range(2,5) for j in range(0,3)])\n",
    "print([[i,i+1,i+2,i+3] for i in range(2,6)])\n",
    "print([(i,j) for j in range(1,4) for i in range(1,4)])"
   ]
  },
  {
   "cell_type": "markdown",
   "metadata": {},
   "source": [
    "Implement a function longestWord() that takes a list of words and returns the longest one."
   ]
  },
  {
   "cell_type": "code",
   "execution_count": 4,
   "metadata": {},
   "outputs": [
    {
     "name": "stdout",
     "output_type": "stream",
     "text": [
      "Verybiglengthyword\n"
     ]
    }
   ],
   "source": [
    "from functools import reduce\n",
    "\n",
    "def longestWord(list_of_words):    \n",
    "    return reduce(lambda x,y:x if len(x)>len(y) else y,list_of_words)\n",
    "\n",
    "lst = ['asdfasfd','ad','ASDASDads','Verybiglengthyword']\n",
    "\n",
    "print(longestWord(lst))\n",
    "    "
   ]
  },
  {
   "cell_type": "markdown",
   "metadata": {},
   "source": [
    "# Task 2"
   ]
  },
  {
   "cell_type": "markdown",
   "metadata": {},
   "source": [
    "Write a Python Program(with class concepts) to find the area of the triangle using the below formula.\n",
    "area = (s*(s-a)*(s-b)*(s-c)) ** 0.5\n",
    "Function to take the length of the sides of triangle from user should be defined in the parent class and function to calculate the area should be defined in subclass."
   ]
  },
  {
   "cell_type": "code",
   "execution_count": 5,
   "metadata": {},
   "outputs": [
    {
     "name": "stdout",
     "output_type": "stream",
     "text": [
      "Area is 178.86360026567732\n"
     ]
    }
   ],
   "source": [
    "class AreaTriange(object):\n",
    "        \n",
    "    def __init__(self,side_a,side_b,side_c):\n",
    "        self.side_a = side_a\n",
    "        self.side_b = side_b\n",
    "        self.side_c = side_c\n",
    "        \n",
    "    def get_side_a(self):\n",
    "        return self.side_a\n",
    "    \n",
    "    def get_side_b(self):\n",
    "        return self.side_b\n",
    "    \n",
    "    def get_side_c(self):\n",
    "        return self.side_c\n",
    "        \n",
    "        \n",
    "class specificTriangle(AreaTriange):\n",
    "          \n",
    "    def __init__(self,*args):\n",
    "        self.area = 0\n",
    "        super(specificTriangle,self).__init__(*args)\n",
    "    \n",
    "    def calculate_area(self):\n",
    "        \n",
    "        side_a = super().get_side_a()\n",
    "        side_b = super().get_side_b()\n",
    "        side_c = super().get_side_c()\n",
    "        \n",
    "        s = (side_a + side_b + side_c) / 2\n",
    "        self.area =  (s*(s-side_a)*(s-side_b)*(s-side_c)) ** 0.5        \n",
    "        \n",
    "    def get_area(self):\n",
    "        return self.area\n",
    "        \n",
    "    \n",
    "triangle = specificTriangle(25,25,15)\n",
    "triangle.calculate_area()\n",
    "print(\"Area is {}\".format(triangle.get_area()))\n",
    "    "
   ]
  },
  {
   "cell_type": "code",
   "execution_count": 6,
   "metadata": {},
   "outputs": [
    {
     "name": "stdout",
     "output_type": "stream",
     "text": [
      "Init Class C\n",
      "Init Class A\n",
      "Calling test of class A\n",
      "Calling test of class B\n"
     ]
    }
   ],
   "source": [
    "class A(object):\n",
    "    \n",
    "    def __init__(self):\n",
    "        print(\"Init Class A\")\n",
    "        \n",
    "    def test(self):\n",
    "        print(\"Calling test of class A\")\n",
    "        \n",
    "class B(object):\n",
    "    \n",
    "    def __init__(self):\n",
    "        print(\"Init Class B\")\n",
    "        \n",
    "    def test(self):\n",
    "        print(\"Calling test of class B\")\n",
    "        \n",
    "class C(A,B):\n",
    "    \n",
    "    def __init__(self):\n",
    "        print(\"Init Class C\")\n",
    "        super(C,self).__init__()\n",
    "        \n",
    "    def call_test(self):\n",
    "        A.test(self)\n",
    "        B.test(self)\n",
    "        \n",
    "\n",
    "c = C()\n",
    "c.call_test()"
   ]
  },
  {
   "cell_type": "markdown",
   "metadata": {},
   "source": [
    "Write a function filter_long_words() that takes a list of words and an integer n and returns the list of words that are longer than n."
   ]
  },
  {
   "cell_type": "code",
   "execution_count": 7,
   "metadata": {},
   "outputs": [
    {
     "name": "stdout",
     "output_type": "stream",
     "text": [
      "['cccc', 'dddddddd', 'eeeee']\n"
     ]
    }
   ],
   "source": [
    "from functools import reduce\n",
    "\n",
    "def longestWord(list_of_words,max_len):    \n",
    "    return list(filter(lambda x: True if len(x)>max_len else False,list_of_words))\n",
    "\n",
    "lst = ['a','aa','aaa','bbb','cccc','dd','dddddddd','eeeee']\n",
    "\n",
    "print(longestWord(lst,3))"
   ]
  },
  {
   "cell_type": "markdown",
   "metadata": {},
   "source": [
    "Write a Python program using function concept that maps list of words into a list of integers representing the lengths of the corresponding words .\n",
    "Hint: If a list [ ab,cde,erty] is passed on to the python function output should come as [2,3,4]\n",
    "Here 2,3 and 4 are the lengths of the words in the list."
   ]
  },
  {
   "cell_type": "code",
   "execution_count": 8,
   "metadata": {},
   "outputs": [
    {
     "name": "stdout",
     "output_type": "stream",
     "text": [
      "[1, 2, 3, 3, 4, 2, 7, 5]\n"
     ]
    }
   ],
   "source": [
    "def len_of_word(list_of_words):\n",
    "    return list(map(lambda x:len(x),lst))\n",
    "\n",
    "lst = ['a','aa','aaa','bbb','cccc','dd','ddddddd','eeeee']\n",
    "\n",
    "print(len_of_word(lst))"
   ]
  },
  {
   "cell_type": "markdown",
   "metadata": {},
   "source": [
    "Write a Python function which takes a character (i.e. a string of length 1) and returns True if it is\n",
    "a vowel, False otherwise."
   ]
  },
  {
   "cell_type": "code",
   "execution_count": 9,
   "metadata": {},
   "outputs": [],
   "source": [
    "#unsure if its expected to use map here\n",
    "\n",
    "def is_vowel(char):\n",
    "    vowel = ['a','e','i','o','u']\n",
    "    \n",
    "    if(char in vowel):\n",
    "        return True\n",
    "    return False\n",
    "    "
   ]
  }
 ],
 "metadata": {
  "kernelspec": {
   "display_name": "Python 3",
   "language": "python",
   "name": "python3"
  },
  "language_info": {
   "codemirror_mode": {
    "name": "ipython",
    "version": 3
   },
   "file_extension": ".py",
   "mimetype": "text/x-python",
   "name": "python",
   "nbconvert_exporter": "python",
   "pygments_lexer": "ipython3",
   "version": "3.7.6"
  }
 },
 "nbformat": 4,
 "nbformat_minor": 4
}
