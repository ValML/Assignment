{
 "cells": [
  {
   "cell_type": "markdown",
   "metadata": {},
   "source": [
    "## Numpy Assignment"
   ]
  },
  {
   "cell_type": "markdown",
   "metadata": {},
   "source": [
    "Write a function to find moving average in an array over a window:\n",
    "Test it over [3, 5, 7, 2, 8, 10, 11, 65, 72, 81, 99, 100, 150] and window of 3."
   ]
  },
  {
   "cell_type": "code",
   "execution_count": 48,
   "metadata": {},
   "outputs": [],
   "source": [
    "import numpy as np\n",
    "import pandas as pd"
   ]
  },
  {
   "cell_type": "code",
   "execution_count": 49,
   "metadata": {},
   "outputs": [
    {
     "name": "stdout",
     "output_type": "stream",
     "text": [
      "Iteration 0, Current Window: [3 5 7], moving average: 5.00\n",
      "Iteration 1, Current Window: [5 7 2], moving average: 4.67\n",
      "Iteration 2, Current Window: [7 2 8], moving average: 5.67\n",
      "Iteration 3, Current Window: [ 2  8 10], moving average: 6.67\n",
      "Iteration 4, Current Window: [ 8 10 11], moving average: 9.67\n",
      "Iteration 5, Current Window: [10 11 65], moving average: 28.67\n",
      "Iteration 6, Current Window: [11 65 72], moving average: 49.33\n",
      "Iteration 7, Current Window: [65 72 81], moving average: 72.67\n",
      "Iteration 8, Current Window: [72 81 99], moving average: 84.00\n",
      "Iteration 9, Current Window: [ 81  99 100], moving average: 93.33\n",
      "Iteration 10, Current Window: [ 99 100 150], moving average: 116.33\n"
     ]
    }
   ],
   "source": [
    "data = np.array([3,5,7,2,8,10,11,65,72,81,99,100,150])\n",
    "mov_avg_window_size = 3\n",
    "iteration = 0\n",
    "ma_window = len(data) - mov_avg_window_size + 1              \n",
    "\n",
    "while(iteration < ma_window):        \n",
    "    curr_window = data[iteration:iteration + mov_avg_window_size]\n",
    "    print(\"Iteration {iter}, Current Window: {window}\".format(iter = iteration,window = curr_window),end = ', ')\n",
    "    print(\"moving average: {:.2f}\".format( sum(curr_window) / mov_avg_window_size ))    \n",
    "    iteration = iteration + 1    "
   ]
  },
  {
   "cell_type": "code",
   "execution_count": 50,
   "metadata": {},
   "outputs": [
    {
     "data": {
      "text/html": [
       "<div>\n",
       "<style scoped>\n",
       "    .dataframe tbody tr th:only-of-type {\n",
       "        vertical-align: middle;\n",
       "    }\n",
       "\n",
       "    .dataframe tbody tr th {\n",
       "        vertical-align: top;\n",
       "    }\n",
       "\n",
       "    .dataframe thead th {\n",
       "        text-align: right;\n",
       "    }\n",
       "</style>\n",
       "<table border=\"1\" class=\"dataframe\">\n",
       "  <thead>\n",
       "    <tr style=\"text-align: right;\">\n",
       "      <th></th>\n",
       "      <th>0</th>\n",
       "    </tr>\n",
       "  </thead>\n",
       "  <tbody>\n",
       "    <tr>\n",
       "      <th>2</th>\n",
       "      <td>5.000000</td>\n",
       "    </tr>\n",
       "    <tr>\n",
       "      <th>3</th>\n",
       "      <td>4.666667</td>\n",
       "    </tr>\n",
       "    <tr>\n",
       "      <th>4</th>\n",
       "      <td>5.666667</td>\n",
       "    </tr>\n",
       "    <tr>\n",
       "      <th>5</th>\n",
       "      <td>6.666667</td>\n",
       "    </tr>\n",
       "    <tr>\n",
       "      <th>6</th>\n",
       "      <td>9.666667</td>\n",
       "    </tr>\n",
       "    <tr>\n",
       "      <th>7</th>\n",
       "      <td>28.666667</td>\n",
       "    </tr>\n",
       "    <tr>\n",
       "      <th>8</th>\n",
       "      <td>49.333333</td>\n",
       "    </tr>\n",
       "    <tr>\n",
       "      <th>9</th>\n",
       "      <td>72.666667</td>\n",
       "    </tr>\n",
       "    <tr>\n",
       "      <th>10</th>\n",
       "      <td>84.000000</td>\n",
       "    </tr>\n",
       "    <tr>\n",
       "      <th>11</th>\n",
       "      <td>93.333333</td>\n",
       "    </tr>\n",
       "    <tr>\n",
       "      <th>12</th>\n",
       "      <td>116.333333</td>\n",
       "    </tr>\n",
       "  </tbody>\n",
       "</table>\n",
       "</div>"
      ],
      "text/plain": [
       "             0\n",
       "2     5.000000\n",
       "3     4.666667\n",
       "4     5.666667\n",
       "5     6.666667\n",
       "6     9.666667\n",
       "7    28.666667\n",
       "8    49.333333\n",
       "9    72.666667\n",
       "10   84.000000\n",
       "11   93.333333\n",
       "12  116.333333"
      ]
     },
     "execution_count": 50,
     "metadata": {},
     "output_type": "execute_result"
    }
   ],
   "source": [
    "df = pd.DataFrame(data)\n",
    "\n",
    "df.rolling(window=3).mean().dropna()\n"
   ]
  }
 ],
 "metadata": {
  "kernelspec": {
   "display_name": "Python 3",
   "language": "python",
   "name": "python3"
  },
  "language_info": {
   "codemirror_mode": {
    "name": "ipython",
    "version": 3
   },
   "file_extension": ".py",
   "mimetype": "text/x-python",
   "name": "python",
   "nbconvert_exporter": "python",
   "pygments_lexer": "ipython3",
   "version": "3.7.6"
  }
 },
 "nbformat": 4,
 "nbformat_minor": 4
}
