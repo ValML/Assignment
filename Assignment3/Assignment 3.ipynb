{
 "cells": [
  {
   "cell_type": "markdown",
   "metadata": {},
   "source": [
    "# Task 1:"
   ]
  },
  {
   "cell_type": "markdown",
   "metadata": {},
   "source": [
    "Write a function to compute 5/0 and use try/except to catch the exceptions."
   ]
  },
  {
   "cell_type": "code",
   "execution_count": 5,
   "metadata": {},
   "outputs": [
    {
     "name": "stdout",
     "output_type": "stream",
     "text": [
      "Caught exception with text: division by zero\n",
      "Finally will execute\n"
     ]
    }
   ],
   "source": [
    "def  computeDivideZero():\n",
    "    try:\n",
    "        val = 5/0\n",
    "    except ZeroDivisionError as ze:\n",
    "        print(\"Caught exception with text:\",ze)\n",
    "    else:\n",
    "        print(\"Will not reach here\")\n",
    "    finally:\n",
    "        print(\"Finally will execute\")\n",
    "\n",
    "computeDivideZero()"
   ]
  },
  {
   "cell_type": "markdown",
   "metadata": {},
   "source": [
    "Implement a Python program to generate all sentences where subject is in [\"Americans\",\"Indians\"] and verb is in [\"Play\", \"watch\"] and the object is in [\"Baseball\",\"cricket\"].\n",
    "Hint: Subject,Verb and Object should be declared in the program as shown below.\n",
    "subjects=[\"Americans \",\"Indians\"]\n",
    "verbs=[\"play\",\"watch\"]\n",
    "objects=[\"Baseball\",\"Cricket\"]"
   ]
  },
  {
   "cell_type": "code",
   "execution_count": 2,
   "metadata": {},
   "outputs": [
    {
     "name": "stdout",
     "output_type": "stream",
     "text": [
      "Americans Play Baseball\n",
      "Americans Play cricket\n",
      "Americans watch Baseball\n",
      "Americans watch cricket\n",
      "Indians Play Baseball\n",
      "Indians Play cricket\n",
      "Indians watch Baseball\n",
      "Indians watch cricket\n"
     ]
    }
   ],
   "source": [
    "subject = [\"Americans\",\"Indians\"]\n",
    "verb = [\"Play\", \"watch\"]\n",
    "Object = [\"Baseball\",\"cricket\"]\n",
    "\n",
    "for eachSVO in [\"{} {} {}\".format(i,j,k) for i in subject for j in verb for k in Object]:\n",
    "    print(eachSVO)"
   ]
  },
  {
   "cell_type": "markdown",
   "metadata": {},
   "source": [
    "# Task 2:"
   ]
  },
  {
   "cell_type": "markdown",
   "metadata": {},
   "source": [
    "Write a function so that the columns of the output matrix are powers of the input vector. The order of the powers is determined by the increasing boolean argument. Specifically, when increasing is False, the i-th output column is the input vector raised element-wise to the power of N - i - 1.\n",
    "\n",
    "HINT: Such a matrix with a geometric progression in each row is named for Alexandre-Theophile Vandermonde."
   ]
  },
  {
   "cell_type": "code",
   "execution_count": 3,
   "metadata": {},
   "outputs": [],
   "source": [
    "import numpy as np\n",
    "from pandas import DataFrame"
   ]
  },
  {
   "cell_type": "code",
   "execution_count": 7,
   "metadata": {},
   "outputs": [
    {
     "name": "stdout",
     "output_type": "stream",
     "text": [
      "---------- Increasing is False ----------\n",
      "[[1, 1, 1, 1, 1, 1], [32, 16, 8, 4, 2, 1], [243, 81, 27, 9, 3, 1], [1024, 256, 64, 16, 4, 1], [3125, 625, 125, 25, 5, 1], [7776, 1296, 216, 36, 6, 1]]\n",
      "---------- Increasing is True ----------\n",
      "[[1, 1, 1, 1, 1, 1], [1, 2, 4, 8, 16, 32], [1, 3, 9, 27, 81, 243], [1, 4, 16, 64, 256, 1024], [1, 5, 25, 125, 625, 3125], [1, 6, 36, 216, 1296, 7776]]\n",
      "\n",
      "---------- Increasing is False ----------\n",
      "[[6436343, 279841, 12167, 529, 23, 1], [1024, 256, 64, 16, 4, 1], [573522581410012432203776, 10158753390428164096, 179941076066816, 3187279936, 56456, 1], [48970736047507, 89526025681, 163667323, 299209, 547, 1], [2373046875, 31640625, 421875, 5625, 75, 1], [1408228672419222790962607, 20841959424263661121, 308463590573263, 4565299489, 67567, 1]]\n",
      "---------- Increasing is True ----------\n",
      "[[1, 23, 529, 12167, 279841, 6436343], [1, 4, 16, 64, 256, 1024], [1, 56456, 3187279936, 179941076066816, 10158753390428164096, 573522581410012432203776], [1, 547, 299209, 163667323, 89526025681, 48970736047507], [1, 75, 5625, 421875, 31640625, 2373046875], [1, 67567, 4565299489, 308463590573263, 20841959424263661121, 1408228672419222790962607]]\n",
      "\n",
      "---------- Increasing is False ----------\n",
      "[[1, 1, 1, 1, 1, 1, 1], [8791367214881353074049, 1935145765987530943, 425962088044801, 93762291007, 20638849, 4543, 1], [76821993791524864, 117825143852032, 180713410816, 277167808, 425104, 652, 1], [78246782771397696, 119643398733024, 182940976656, 279726264, 427716, 654, 1], [51520374361, 844596301, 13845841, 226981, 3721, 61, 1], [51520374361, 844596301, 13845841, 226981, 3721, 61, 1], [15625, 3125, 625, 125, 25, 5, 1]]\n",
      "---------- Increasing is True ----------\n",
      "[[1, 1, 1, 1, 1, 1, 1], [1, 4543, 20638849, 93762291007, 425962088044801, 1935145765987530943, 8791367214881353074049], [1, 652, 425104, 277167808, 180713410816, 117825143852032, 76821993791524864], [1, 654, 427716, 279726264, 182940976656, 119643398733024, 78246782771397696], [1, 61, 3721, 226981, 13845841, 844596301, 51520374361], [1, 61, 3721, 226981, 13845841, 844596301, 51520374361], [1, 5, 25, 125, 625, 3125, 15625]]\n"
     ]
    }
   ],
   "source": [
    "x = [1,2,3,4,5,6]\n",
    "y = [23,4,56456,547,75,67567]\n",
    "z = [1,4543,652,654,61,61,5]\n",
    "increase = False\n",
    "\n",
    "\n",
    "\n",
    "def alexVanderGP(x,increase):\n",
    "    if increase == True:\n",
    "        lst = [i**j for i in x for j in range(0,len(x))]\n",
    "    else:\n",
    "        lst =  [i**(len(x)-j) for i in x for j in range(1,len(x)+1)]\n",
    "    return matrixify(len(x),len(x),lst)\n",
    "\n",
    "\n",
    "def matrixify(r, c, lst):\n",
    "    mat = []\n",
    "    for i in range(r):\n",
    "        rowList = []\n",
    "        for j in range(c):\n",
    "            rowList.append(lst[r * i + j])\n",
    "        mat.append(rowList)\n",
    "    return mat\n",
    "    \n",
    "    \n",
    "print(\"-\"*10,\"Increasing is False\",\"-\"*10)    \n",
    "print(alexVanderGP(x,False))\n",
    "print(\"-\"*10,\"Increasing is True\",\"-\"*10)    \n",
    "print(alexVanderGP(x,True))\n",
    "print()\n",
    "print(\"-\"*10,\"Increasing is False\",\"-\"*10)    \n",
    "print(alexVanderGP(y,False))   \n",
    "print(\"-\"*10,\"Increasing is True\",\"-\"*10)    \n",
    "print(alexVanderGP(y,True))\n",
    "print()\n",
    "print(\"-\"*10,\"Increasing is False\",\"-\"*10)    \n",
    "print(alexVanderGP(z,False))   \n",
    "print(\"-\"*10,\"Increasing is True\",\"-\"*10)    \n",
    "print(alexVanderGP(z,True))\n",
    "\n"
   ]
  }
 ],
 "metadata": {
  "kernelspec": {
   "display_name": "Python 3",
   "language": "python",
   "name": "python3"
  },
  "language_info": {
   "codemirror_mode": {
    "name": "ipython",
    "version": 3
   },
   "file_extension": ".py",
   "mimetype": "text/x-python",
   "name": "python",
   "nbconvert_exporter": "python",
   "pygments_lexer": "ipython3",
   "version": "3.7.6"
  }
 },
 "nbformat": 4,
 "nbformat_minor": 4
}
